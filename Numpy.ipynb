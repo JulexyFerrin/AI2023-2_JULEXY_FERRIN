{
  "nbformat": 4,
  "nbformat_minor": 0,
  "metadata": {
    "colab": {
      "provenance": [],
      "authorship_tag": "ABX9TyOW/MajVHi/UBpYLQL+nsl0",
      "include_colab_link": true
    },
    "kernelspec": {
      "name": "python3",
      "display_name": "Python 3"
    },
    "language_info": {
      "name": "python"
    }
  },
  "cells": [
    {
      "cell_type": "markdown",
      "metadata": {
        "id": "view-in-github",
        "colab_type": "text"
      },
      "source": [
        "<a href=\"https://colab.research.google.com/github/JulexyFerrin/AI2023-2_JULEXY_FERRIN/blob/main/Numpy.ipynb\" target=\"_parent\"><img src=\"https://colab.research.google.com/assets/colab-badge.svg\" alt=\"Open In Colab\"/></a>"
      ]
    },
    {
      "cell_type": "code",
      "execution_count": null,
      "metadata": {
        "colab": {
          "base_uri": "https://localhost:8080/"
        },
        "id": "CUVXqTuDWSOT",
        "outputId": "49e86924-b911-43ff-e2c1-ada1ce99f3ba"
      },
      "outputs": [
        {
          "output_type": "stream",
          "name": "stdout",
          "text": [
            "[1 2 4 5]\n",
            "(4,)\n",
            "------------------------------\n",
            "(2, 4)\n",
            "[[1 2 3 4]\n",
            " [1 2 3 4]]\n",
            "<class 'numpy.ndarray'>\n",
            "------------------------------\n",
            "[[0. 0. 0. 0.]\n",
            " [0. 0. 0. 0.]\n",
            " [0. 0. 0. 0.]\n",
            " [0. 0. 0. 0.]]\n",
            "------------------------------\n",
            "[[5 5 5 5]\n",
            " [5 5 5 5]\n",
            " [5 5 5 5]\n",
            " [5 5 5 5]]\n",
            "------------------------------\n",
            "[[1. 0. 0. 0.]\n",
            " [0. 1. 0. 0.]\n",
            " [0. 0. 1. 0.]\n",
            " [0. 0. 0. 1.]]\n",
            "------------------------------\n",
            "[[1. 1. 1. 1.]\n",
            " [1. 1. 1. 1.]\n",
            " [1. 1. 1. 1.]\n",
            " [1. 1. 1. 1.]]\n",
            "(4, 4)\n"
          ]
        }
      ],
      "source": [
        "import numpy as jf\n",
        "\n",
        "aux=jf.array([1,2,4,5])\n",
        "print(aux)\n",
        "# Tipo de arreglo\n",
        "print(aux.shape)\n",
        "print('------------------------------')\n",
        "\n",
        "aux=jf.array([[1,2,3,4],[1,2,3,4]])\n",
        "print(aux.shape)\n",
        "print(aux)\n",
        "print(type(aux))\n",
        "print('------------------------------')\n",
        "\n",
        "x=jf.zeros((4,4))\n",
        "print(x)\n",
        "print('------------------------------')\n",
        "\n",
        "\n",
        "x=jf.full((4,4),5)\n",
        "print(x)\n",
        "print('------------------------------')\n",
        "\n",
        "\n",
        "x=jf.eye(4,4)\n",
        "print(x)\n",
        "print('------------------------------')\n",
        "\n",
        "x=jf.ones((4,4))\n",
        "print(x)\n",
        "print(x.shape)"
      ]
    },
    {
      "cell_type": "code",
      "source": [
        "y=10*jf.random.random((4,4))\n",
        "print(y)"
      ],
      "metadata": {
        "colab": {
          "base_uri": "https://localhost:8080/"
        },
        "id": "uz6b7imkWrBd",
        "outputId": "7653c5de-9745-46ce-bb80-44f6d6a054bb"
      },
      "execution_count": null,
      "outputs": [
        {
          "output_type": "stream",
          "name": "stdout",
          "text": [
            "[[7.95842359 2.50750215 2.25014808 4.10137666]\n",
            " [3.66215875 3.27532595 2.72263206 2.92183814]\n",
            " [3.24287957 6.53697002 0.10548177 8.19253639]\n",
            " [1.33464036 2.82039578 6.63562516 4.38478151]]\n"
          ]
        }
      ]
    },
    {
      "cell_type": "code",
      "source": [
        "print(y[:2,:2])"
      ],
      "metadata": {
        "colab": {
          "base_uri": "https://localhost:8080/"
        },
        "id": "D5BAmdL2WvEH",
        "outputId": "f542d650-5bbf-45e9-915c-34cb915198f4"
      },
      "execution_count": null,
      "outputs": [
        {
          "output_type": "stream",
          "name": "stdout",
          "text": [
            "[[7.95842359 2.50750215]\n",
            " [3.66215875 3.27532595]]\n",
            "------------------------------\n",
            "[[0.10548177 8.19253639]\n",
            " [6.63562516 4.38478151]]\n"
          ]
        }
      ]
    },
    {
      "cell_type": "code",
      "source": [
        "print(y[:2,1:3])"
      ],
      "metadata": {
        "colab": {
          "base_uri": "https://localhost:8080/"
        },
        "id": "dYjojYjgYkX3",
        "outputId": "b36aff81-8c66-4a5f-9a39-c1dc56627be8"
      },
      "execution_count": null,
      "outputs": [
        {
          "output_type": "stream",
          "name": "stdout",
          "text": [
            "[[2.50750215 2.25014808]\n",
            " [3.27532595 2.72263206]]\n"
          ]
        }
      ]
    },
    {
      "cell_type": "code",
      "source": [
        "print(y[1,1])\n",
        "print('------------------------------')\n",
        "print(y[2,2])"
      ],
      "metadata": {
        "colab": {
          "base_uri": "https://localhost:8080/"
        },
        "id": "nQkl2gYyWyGf",
        "outputId": "d0b279ff-ea59-4d86-ab7e-6e799cf19069"
      },
      "execution_count": null,
      "outputs": [
        {
          "output_type": "stream",
          "name": "stdout",
          "text": [
            "3.275325948621286\n",
            "------------------------------\n",
            "0.10548176723359948\n"
          ]
        }
      ]
    },
    {
      "cell_type": "code",
      "source": [
        "tmp=10*jf.random.random((5,5))\n",
        "print(tmp)"
      ],
      "metadata": {
        "colab": {
          "base_uri": "https://localhost:8080/"
        },
        "id": "Yug8p7eIW1rU",
        "outputId": "0736af80-c5aa-4fa6-9819-69039daec966"
      },
      "execution_count": null,
      "outputs": [
        {
          "output_type": "stream",
          "name": "stdout",
          "text": [
            "[[2.08232026 4.23472776 0.20184615 3.7629833  3.02786671]\n",
            " [6.00397158 3.39732031 1.23682398 3.27256717 6.70029532]\n",
            " [7.99009412 0.1299636  5.68858488 7.93355576 9.91479149]\n",
            " [0.28011105 5.46860801 5.67004163 9.21909777 9.10405675]\n",
            " [9.26995849 4.21235473 6.65040172 0.44998674 8.19881523]]\n"
          ]
        }
      ]
    },
    {
      "cell_type": "code",
      "source": [
        "mascara=tmp>5\n",
        "print(mascara)\n",
        "print('------------------------------')\n",
        "print(tmp[mascara])"
      ],
      "metadata": {
        "colab": {
          "base_uri": "https://localhost:8080/"
        },
        "id": "yCTykepmW5pR",
        "outputId": "a76793e3-cdd6-4d49-b84e-e94d1be77bd0"
      },
      "execution_count": null,
      "outputs": [
        {
          "output_type": "stream",
          "name": "stdout",
          "text": [
            "[[False False False False False]\n",
            " [ True False False False  True]\n",
            " [ True False  True  True  True]\n",
            " [False  True  True  True  True]\n",
            " [ True False  True False  True]]\n",
            "------------------------------\n",
            "[6.00397158 6.70029532 7.99009412 5.68858488 7.93355576 9.91479149\n",
            " 5.46860801 5.67004163 9.21909777 9.10405675 9.26995849 6.65040172\n",
            " 8.19881523]\n"
          ]
        }
      ]
    },
    {
      "cell_type": "code",
      "source": [
        "mask = (tmp >=2) & (tmp<=4)\n",
        "print(tmp[mask])"
      ],
      "metadata": {
        "colab": {
          "base_uri": "https://localhost:8080/"
        },
        "id": "HBLHRn7aXB7v",
        "outputId": "4fa73f1c-9bad-48a8-8d2b-a3d1fe435728"
      },
      "execution_count": null,
      "outputs": [
        {
          "output_type": "stream",
          "name": "stdout",
          "text": [
            "[2.08232026 3.7629833  3.02786671 3.39732031 3.27256717]\n"
          ]
        }
      ]
    },
    {
      "cell_type": "code",
      "source": [
        "tmp = jf.random.randint(0, 11, size=(4, 4))\n",
        "print(tmp)\n",
        "print('----------------------------------')\n",
        "mask = jf.mod(tmp, 2) == 0\n",
        "print(tmp[mask])\n"
      ],
      "metadata": {
        "colab": {
          "base_uri": "https://localhost:8080/"
        },
        "id": "SeunMMgMXFOH",
        "outputId": "59fb42b3-d7b4-4d86-9c39-d12273ce2b9e"
      },
      "execution_count": null,
      "outputs": [
        {
          "output_type": "stream",
          "name": "stdout",
          "text": [
            "[[10  0  6  4]\n",
            " [ 6  4 10  9]\n",
            " [ 8  4  0  3]\n",
            " [ 9 10  3  3]]\n",
            "----------------------------------\n",
            "[10  0  6  4  6  4 10  8  4  0 10]\n"
          ]
        }
      ]
    },
    {
      "cell_type": "code",
      "source": [
        "import numpy as np\n",
        "\n",
        "#create an array with random inteher values between 1 and 10\n",
        "a = np.random.randint(1, 11, size=(3,4))\n",
        "b = np.random.randint(1, 11, size=(3,4))\n",
        "\n",
        "print('MATRIZ A')\n",
        "print(a)\n",
        "print('MATRIZ B')\n",
        "print(b)\n",
        "print(a.shape)\n",
        "print(b.shape)\n",
        "\n",
        "print('------------------------------------------------------')\n",
        "\n",
        "print('Adding numbers')\n",
        "#plus\n",
        "print(a+b)\n",
        "print('Subtracting numbers')\n",
        "#minus\n",
        "print(a-b)\n",
        "print('Multiplication numbers')\n",
        "#times\n",
        "print(a*b)\n",
        "\n",
        "print('------------------------------------------------------')\n",
        "\n",
        "print('SUMANDO')\n",
        "print(np.add(a,b))\n",
        "print('RESTANDO')\n",
        "print(np.multiply(a,b))\n",
        "print('MULTIPLICANDO')\n",
        "print(np.subtract(a,b))\n",
        "print('DIVIDIENDO')\n",
        "print(np.divide(a,b))"
      ],
      "metadata": {
        "colab": {
          "base_uri": "https://localhost:8080/"
        },
        "id": "jxlcjFUr5AnW",
        "outputId": "b1b74eaa-889a-4a76-d9d6-71124634a6a6"
      },
      "execution_count": 1,
      "outputs": [
        {
          "output_type": "stream",
          "name": "stdout",
          "text": [
            "MATRIZ A\n",
            "[[ 9 10  3  8]\n",
            " [10  7  1  5]\n",
            " [10  1  9  7]]\n",
            "MATRIZ B\n",
            "[[ 9  3  7 10]\n",
            " [10  3  5  2]\n",
            " [ 2  6  3 10]]\n",
            "(3, 4)\n",
            "(3, 4)\n",
            "------------------------------------------------------\n",
            "Adding numbers\n",
            "[[18 13 10 18]\n",
            " [20 10  6  7]\n",
            " [12  7 12 17]]\n",
            "Subtracting numbers\n",
            "[[ 0  7 -4 -2]\n",
            " [ 0  4 -4  3]\n",
            " [ 8 -5  6 -3]]\n",
            "Multiplication numbers\n",
            "[[ 81  30  21  80]\n",
            " [100  21   5  10]\n",
            " [ 20   6  27  70]]\n",
            "------------------------------------------------------\n",
            "SUMANDO\n",
            "[[18 13 10 18]\n",
            " [20 10  6  7]\n",
            " [12  7 12 17]]\n",
            "RESTANDO\n",
            "[[ 81  30  21  80]\n",
            " [100  21   5  10]\n",
            " [ 20   6  27  70]]\n",
            "MULTIPLICANDO\n",
            "[[ 0  7 -4 -2]\n",
            " [ 0  4 -4  3]\n",
            " [ 8 -5  6 -3]]\n",
            "DIVIDIENDO\n",
            "[[1.         3.33333333 0.42857143 0.8       ]\n",
            " [1.         2.33333333 0.2        2.5       ]\n",
            " [5.         0.16666667 3.         0.7       ]]\n"
          ]
        }
      ]
    },
    {
      "cell_type": "code",
      "source": [
        "a=np.random.randint(0,10,(2,3))\n",
        "\n",
        "b=np.random.randint(0,10,(3,4))\n",
        "print('MATRIZ A')\n",
        "print(a)\n",
        "print('MATRIZ B')\n",
        "print(b)\n",
        "print('----------------------------')\n",
        "print('Forma 1')\n",
        "print(np.dot(a,b))\n",
        "print('Forma 2')\n",
        "print(a.dot(b))\n",
        "print(np.dot(a,b).shape)"
      ],
      "metadata": {
        "colab": {
          "base_uri": "https://localhost:8080/"
        },
        "id": "ooAof4rQ5KXa",
        "outputId": "ca0204da-6e8a-4f3a-c3ab-e50bb3b18afa"
      },
      "execution_count": 2,
      "outputs": [
        {
          "output_type": "stream",
          "name": "stdout",
          "text": [
            "MATRIZ A\n",
            "[[8 6 6]\n",
            " [7 3 7]]\n",
            "MATRIZ B\n",
            "[[3 1 6 4]\n",
            " [9 8 4 9]\n",
            " [4 6 9 6]]\n",
            "----------------------------\n",
            "Forma 1\n",
            "[[102  92 126 122]\n",
            " [ 76  73 117  97]]\n",
            "Forma 2\n",
            "[[102  92 126 122]\n",
            " [ 76  73 117  97]]\n",
            "(2, 4)\n"
          ]
        }
      ]
    },
    {
      "cell_type": "code",
      "source": [
        "a=np.random.randint(0,20,(5,3))\n",
        "print(a)\n",
        "print('----------------------------')\n",
        "print(a.T)"
      ],
      "metadata": {
        "colab": {
          "base_uri": "https://localhost:8080/"
        },
        "id": "JEM7Opnc5OzP",
        "outputId": "74460354-d566-4335-c687-7a3982fa952d"
      },
      "execution_count": 3,
      "outputs": [
        {
          "output_type": "stream",
          "name": "stdout",
          "text": [
            "[[ 2  3 12]\n",
            " [17  6 13]\n",
            " [18 18  8]\n",
            " [ 8  3 18]\n",
            " [ 0  4  3]]\n",
            "----------------------------\n",
            "[[ 2 17 18  8  0]\n",
            " [ 3  6 18  3  4]\n",
            " [12 13  8 18  3]]\n"
          ]
        }
      ]
    },
    {
      "cell_type": "code",
      "source": [
        "a=np.random.randint(0,10,(4,3))\n",
        "print(a)\n",
        "b=np.array([1,0,2])\n",
        "print(b)\n",
        "print('-------------------------')\n",
        "c=np.empty_like(a)\n",
        "print(c)\n",
        "x=a+b\n",
        "\n",
        "print(np.empty_like(x))"
      ],
      "metadata": {
        "colab": {
          "base_uri": "https://localhost:8080/"
        },
        "id": "fL4YlU3J5TQs",
        "outputId": "02723e8f-7c71-479f-faae-3655b7a652bc"
      },
      "execution_count": 4,
      "outputs": [
        {
          "output_type": "stream",
          "name": "stdout",
          "text": [
            "[[6 5 5]\n",
            " [3 4 4]\n",
            " [5 6 5]\n",
            " [4 1 5]]\n",
            "[1 0 2]\n",
            "-------------------------\n",
            "[[ 9 10  3]\n",
            " [ 8 10  7]\n",
            " [ 1  5 10]\n",
            " [ 1  9  7]]\n",
            "[[4607182418800017408 4614688418178968235 4601392076421969627]\n",
            " [4605380978949069210 4607182418800017408 4612436618365282987]\n",
            " [4596373779694328218 4612811918334230528 4617315517961601024]\n",
            " [4595172819793696085 4613937818241073152 4604480259023595110]]\n"
          ]
        }
      ]
    },
    {
      "cell_type": "code",
      "source": [
        "for i in range(4):\n",
        "  c[i,:]=a[i,:]+b\n",
        "print(a)\n",
        "print('-------------')\n",
        "print(b)\n",
        "print('-------------')\n",
        "print(c)"
      ],
      "metadata": {
        "colab": {
          "base_uri": "https://localhost:8080/"
        },
        "id": "Z8JzgFyv5a4r",
        "outputId": "fe374e89-f6ee-4aba-9bc4-888775b472a6"
      },
      "execution_count": 5,
      "outputs": [
        {
          "output_type": "stream",
          "name": "stdout",
          "text": [
            "[[6 5 5]\n",
            " [3 4 4]\n",
            " [5 6 5]\n",
            " [4 1 5]]\n",
            "-------------\n",
            "[1 0 2]\n",
            "-------------\n",
            "[[7 5 7]\n",
            " [4 4 6]\n",
            " [6 6 7]\n",
            " [5 1 7]]\n"
          ]
        }
      ]
    },
    {
      "cell_type": "code",
      "source": [
        "c=a+b\n",
        "print(c)"
      ],
      "metadata": {
        "colab": {
          "base_uri": "https://localhost:8080/"
        },
        "id": "HvIGxuRf5fHg",
        "outputId": "47193455-0c18-4b9b-b166-5370766dbeeb"
      },
      "execution_count": 6,
      "outputs": [
        {
          "output_type": "stream",
          "name": "stdout",
          "text": [
            "[[7 5 7]\n",
            " [4 4 6]\n",
            " [6 6 7]\n",
            " [5 1 7]]\n"
          ]
        }
      ]
    },
    {
      "cell_type": "code",
      "source": [
        "x=np.array([1,2,3])\n",
        "print(x)\n",
        "y=np.tile(x,(5,2))\n",
        "print(y)\n",
        "z=np.full((6,3),[x])\n",
        "print(z)"
      ],
      "metadata": {
        "colab": {
          "base_uri": "https://localhost:8080/"
        },
        "id": "ivQllNOo5jSp",
        "outputId": "63c0b918-f7f4-468b-ca14-8a3fdde8536e"
      },
      "execution_count": 7,
      "outputs": [
        {
          "output_type": "stream",
          "name": "stdout",
          "text": [
            "[1 2 3]\n",
            "[[1 2 3 1 2 3]\n",
            " [1 2 3 1 2 3]\n",
            " [1 2 3 1 2 3]\n",
            " [1 2 3 1 2 3]\n",
            " [1 2 3 1 2 3]]\n",
            "[[1 2 3]\n",
            " [1 2 3]\n",
            " [1 2 3]\n",
            " [1 2 3]\n",
            " [1 2 3]\n",
            " [1 2 3]]\n"
          ]
        }
      ]
    },
    {
      "cell_type": "code",
      "source": [
        "a=np.random.randint(20,31,(6,6))\n",
        "print(a)\n",
        "print('------------------------------')\n",
        "print(\"PROMEDIOS COMPLETOS\")\n",
        "aux1=np.mean(a)\n",
        "\n",
        "print(aux1)\n",
        "print('------------------------------')\n",
        "print(\"PROMEDIOS POR FILAS\")\n",
        "aux2=np.mean(a,axis=1)\n",
        "print(aux2)\n",
        "print('------------------------------')\n",
        "print('PROMEDIOS POR COLUMNAS')\n",
        "print(np.mean(a, axis=0))"
      ],
      "metadata": {
        "colab": {
          "base_uri": "https://localhost:8080/"
        },
        "id": "Uj-OF6YQ5nWQ",
        "outputId": "800fb8d6-2d8c-40f6-d3ca-d5af905331f6"
      },
      "execution_count": 8,
      "outputs": [
        {
          "output_type": "stream",
          "name": "stdout",
          "text": [
            "[[23 29 29 28 28 27]\n",
            " [30 24 28 20 26 24]\n",
            " [23 25 28 23 24 29]\n",
            " [27 23 26 24 21 26]\n",
            " [24 28 29 28 25 27]\n",
            " [20 24 25 28 30 24]]\n",
            "------------------------------\n",
            "PROMEDIOS COMPLETOS\n",
            "25.75\n",
            "------------------------------\n",
            "PROMEDIOS POR FILAS\n",
            "[27.33333333 25.33333333 25.33333333 24.5        26.83333333 25.16666667]\n",
            "------------------------------\n",
            "PROMEDIOS POR COLUMNAS\n",
            "[24.5        25.5        27.5        25.16666667 25.66666667 26.16666667]\n"
          ]
        }
      ]
    }
  ]
}