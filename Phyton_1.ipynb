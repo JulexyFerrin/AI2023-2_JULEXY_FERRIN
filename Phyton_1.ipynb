{
  "nbformat": 4,
  "nbformat_minor": 0,
  "metadata": {
    "colab": {
      "provenance": [],
      "authorship_tag": "ABX9TyPSweyFR38fvaUjJIj22E9r",
      "include_colab_link": true
    },
    "kernelspec": {
      "name": "python3",
      "display_name": "Python 3"
    },
    "language_info": {
      "name": "python"
    }
  },
  "cells": [
    {
      "cell_type": "markdown",
      "metadata": {
        "id": "view-in-github",
        "colab_type": "text"
      },
      "source": [
        "<a href=\"https://colab.research.google.com/github/JulexyFerrin/AI2023-2_JULEXY_FERRIN/blob/main/Phyton_1.ipynb\" target=\"_parent\"><img src=\"https://colab.research.google.com/assets/colab-badge.svg\" alt=\"Open In Colab\"/></a>"
      ]
    },
    {
      "cell_type": "code",
      "execution_count": null,
      "metadata": {
        "colab": {
          "base_uri": "https://localhost:8080/"
        },
        "id": "gxcYovovmGgi",
        "outputId": "908fda0c-8186-40eb-c974-1a7fa4807fd2"
      },
      "outputs": [
        {
          "output_type": "stream",
          "name": "stdout",
          "text": [
            "Python 3.10.12\n"
          ]
        }
      ],
      "source": [
        "!python --version"
      ]
    },
    {
      "cell_type": "markdown",
      "source": [
        "**VARIABLES**\n",
        "\n"
      ],
      "metadata": {
        "id": "qpL_e9WUmd90"
      }
    },
    {
      "cell_type": "markdown",
      "source": [
        "**TIPOS DE DATOS BÁSICOS**"
      ],
      "metadata": {
        "id": "G8REYj56mrFJ"
      }
    },
    {
      "cell_type": "code",
      "source": [
        "variableX = 4\n",
        "variableY = 2.2\n",
        "\n",
        "print(variableX+variableY)\n",
        "print(variableX*variableY)\n",
        "print(variableX-variableY)\n",
        "print(variableX/variableY)"
      ],
      "metadata": {
        "colab": {
          "base_uri": "https://localhost:8080/"
        },
        "id": "KzfnqYcQmqT-",
        "outputId": "eacdab93-102d-4abf-a093-b2147d460340"
      },
      "execution_count": null,
      "outputs": [
        {
          "output_type": "stream",
          "name": "stdout",
          "text": [
            "6.2\n",
            "8.8\n",
            "1.7999999999999998\n",
            "1.8181818181818181\n"
          ]
        }
      ]
    },
    {
      "cell_type": "markdown",
      "source": [
        "**TIPOS BOOLEANOS**"
      ],
      "metadata": {
        "id": "vNESfsmWm2J7"
      }
    },
    {
      "cell_type": "code",
      "source": [
        "variable1= True\n",
        "variable2=False\n",
        "\n",
        "print(variable1 and variable2)\n",
        "print(variable1 or variable2)\n",
        "print( not variable1)\n",
        "print( not variable2)"
      ],
      "metadata": {
        "colab": {
          "base_uri": "https://localhost:8080/"
        },
        "id": "qwcBDL_AmzJ5",
        "outputId": "3e3e64ac-56a2-4af6-ae0b-b78a50e68f90"
      },
      "execution_count": null,
      "outputs": [
        {
          "output_type": "stream",
          "name": "stdout",
          "text": [
            "False\n",
            "True\n",
            "False\n",
            "True\n"
          ]
        }
      ]
    },
    {
      "cell_type": "markdown",
      "source": [
        "**CADENA DE CARÁCTERES**"
      ],
      "metadata": {
        "id": "s2LZRmIjnGe7"
      }
    },
    {
      "cell_type": "code",
      "source": [
        "presentar = \"MY NAME IS \"\n",
        "nombre = \"JULEXY FERRIN\"\n",
        "edad = \" AND I'M 22 YEARS OLD\"\n",
        "print(presentar.lower() , nombre , edad.upper())"
      ],
      "metadata": {
        "colab": {
          "base_uri": "https://localhost:8080/"
        },
        "id": "0ZhkuBmTnDfV",
        "outputId": "8bf688af-6b94-4671-f1fb-c269acbb9f9a"
      },
      "execution_count": null,
      "outputs": [
        {
          "output_type": "stream",
          "name": "stdout",
          "text": [
            "my name is  JULEXY FERRIN  AND I'M 22 YEARS OLD\n"
          ]
        }
      ]
    },
    {
      "cell_type": "code",
      "source": [
        "name=\"JULEXY FERRIN\"\n",
        "print(name)\n",
        " # contar el numero de caracteres\n",
        "print(len(name))\n",
        "# colocar los caracteres con mayúsculas\n",
        "print(name.upper())\n",
        "# colocar los caracteres con minúscula\n",
        "print(name.lower())\n",
        "# colocar los caracteres en mayúscula la primera letra\n",
        "print(name.capitalize())"
      ],
      "metadata": {
        "colab": {
          "base_uri": "https://localhost:8080/"
        },
        "id": "rVQzM-NXnoOF",
        "outputId": "b983f989-e47e-48b3-f88b-e85c68c48b67"
      },
      "execution_count": null,
      "outputs": [
        {
          "output_type": "stream",
          "name": "stdout",
          "text": [
            "JULEXY FERRIN\n",
            "13\n",
            "JULEXY FERRIN\n",
            "julexy ferrin\n",
            "Julexy ferrin\n"
          ]
        }
      ]
    },
    {
      "cell_type": "markdown",
      "source": [
        "**CONTENEDORES**"
      ],
      "metadata": {
        "id": "4NoQIRwvnyUf"
      }
    },
    {
      "cell_type": "code",
      "source": [
        "names=\"FABIOLA, KARLA, JUAN\"\n",
        "print(names)\n",
        "\n",
        "print(names.split(\";\"))"
      ],
      "metadata": {
        "colab": {
          "base_uri": "https://localhost:8080/"
        },
        "id": "z0fxW0bfn083",
        "outputId": "e9e466f3-116d-4877-cff4-5bcbb03d69a2"
      },
      "execution_count": null,
      "outputs": [
        {
          "output_type": "stream",
          "name": "stdout",
          "text": [
            "FABIOLA, KARLA, JUAN\n",
            "['FABIOLA, KARLA, JUAN']\n"
          ]
        }
      ]
    },
    {
      "cell_type": "markdown",
      "source": [
        "**LISTAS**"
      ],
      "metadata": {
        "id": "VOmm7U0BoGeH"
      }
    },
    {
      "cell_type": "code",
      "source": [
        "from os import remove\n",
        "from pickle import APPEND\n",
        "listaUtiles=[\"cuaderno\", \"carpeta\", \"borrador\", \"lápiz\"]\n",
        "print(listaUtiles)\n",
        "listaUtiles.append('computadora')\n",
        "print(listaUtiles)\n",
        "#Así se comenta lienas de código en python\n",
        "#listaUtiles.pop(1)\n",
        "del listaUtiles[1]\n",
        "print(listaUtiles)"
      ],
      "metadata": {
        "colab": {
          "base_uri": "https://localhost:8080/"
        },
        "id": "4bUFzlxsodEr",
        "outputId": "24cf5719-e5dc-488c-895b-b0b59c98851d"
      },
      "execution_count": null,
      "outputs": [
        {
          "output_type": "stream",
          "name": "stdout",
          "text": [
            "['notebook', 'pen', 'pencil', 'eraser', 'ruler']\n",
            "['notebook', 'pen', 'pencil', 'eraser', 'ruler', 'computer']\n",
            "['notebook', 'pencil', 'eraser', 'ruler', 'computer']\n"
          ]
        }
      ]
    },
    {
      "cell_type": "code",
      "source": [
        "lista = ['Hoja','Hoja','Hoja','Hoja']\n",
        "lista.remove('Hoja')\n",
        "print(lista)"
      ],
      "metadata": {
        "colab": {
          "base_uri": "https://localhost:8080/"
        },
        "id": "RStAJkCKrndi",
        "outputId": "f9fb8943-dfb0-4639-de21-fb50c2439724"
      },
      "execution_count": null,
      "outputs": [
        {
          "output_type": "stream",
          "name": "stdout",
          "text": [
            "['Hoja', 'Hoja', 'Hoja']\n"
          ]
        }
      ]
    },
    {
      "cell_type": "code",
      "source": [
        "nuevaLista=list(range(15))\n",
        "print(nuevaLista)\n",
        "print(nuevaLista[4:11])\n",
        "print(nuevaLista[-3])\n",
        "print(nuevaLista[10:5])"
      ],
      "metadata": {
        "id": "746FQ7s7r36l",
        "outputId": "bdbb0a1a-b618-4360-b934-5ccd11c80c4c",
        "colab": {
          "base_uri": "https://localhost:8080/"
        }
      },
      "execution_count": null,
      "outputs": [
        {
          "output_type": "stream",
          "name": "stdout",
          "text": [
            "[0, 1, 2, 3, 4, 5, 6, 7, 8, 9, 10, 11, 12, 13, 14]\n",
            "[4, 5, 6, 7, 8, 9, 10]\n",
            "12\n",
            "[]\n"
          ]
        }
      ]
    },
    {
      "cell_type": "code",
      "source": [
        "lista=list()\n",
        "lista=[\"cuaderno\", \"carpeta\", \"borrador\", \"lápiz\"]\n",
        "print(lista)\n",
        "# añadir un objeto a la lista\n",
        "lista.append(\"regla\")\n",
        "print(lista)\n",
        "# imprimir el numero 3 de la lista\n",
        "print(lista[3])\n",
        "print('---------')\n",
        "# visualizar uno a uno los objto que existen en el contenedor\n",
        "for i in lista:\n",
        "  print (i)\n",
        "#lista.pop[3]\n",
        "#print(lista)\n",
        "print('-----------')\n",
        "# eliminar el objeto de la posición 3\n",
        "del lista[3]\n",
        "print(lista)\n",
        "\n",
        "# imprimir un rango del contenedor\n",
        "print('-----------')\n",
        "print(lista[1:4])"
      ],
      "metadata": {
        "colab": {
          "base_uri": "https://localhost:8080/"
        },
        "id": "UAIeuS0ooIPJ",
        "outputId": "7177719b-9031-45a8-fe7a-bf553acec56e"
      },
      "execution_count": null,
      "outputs": [
        {
          "output_type": "stream",
          "name": "stdout",
          "text": [
            "['cuaderno', 'carpeta', 'borrador', 'lápiz']\n",
            "['cuaderno', 'carpeta', 'borrador', 'lápiz', 'regla']\n",
            "lápiz\n",
            "---------\n",
            "cuaderno\n",
            "carpeta\n",
            "borrador\n",
            "lápiz\n",
            "regla\n",
            "-----------\n",
            "['cuaderno', 'carpeta', 'borrador', 'regla']\n",
            "-----------\n",
            "['carpeta', 'borrador', 'regla']\n"
          ]
        }
      ]
    },
    {
      "cell_type": "code",
      "source": [
        "milista=list(range(5))\n",
        "print(milista)"
      ],
      "metadata": {
        "colab": {
          "base_uri": "https://localhost:8080/"
        },
        "id": "7JeIqvHYog3l",
        "outputId": "17acf4ac-84f7-43c9-eb29-a3355ed42f5d"
      },
      "execution_count": null,
      "outputs": [
        {
          "output_type": "stream",
          "name": "stdout",
          "text": [
            "[0, 1, 2, 3, 4]\n"
          ]
        }
      ]
    },
    {
      "cell_type": "markdown",
      "source": [
        "**DICCIONARIOS**"
      ],
      "metadata": {
        "id": "0kXkcXNmomJj"
      }
    },
    {
      "cell_type": "code",
      "source": [
        "d={'name:':'Carlos', 'age:':32, 'city':'Quito'}\n",
        "print(d['name:'])\n",
        "print(d['city'])\n",
        "\n",
        "# agregar una caracteristicas al diccionario\n",
        "d['UNI']='ULEAM'\n",
        "print('----------')\n",
        "print(d['UNI'])\n",
        "\n",
        "# IMPRIMIR TODO DEL DICCIONARIO\n",
        "print('----------')\n",
        "for item in d:\n",
        "  print(item)"
      ],
      "metadata": {
        "colab": {
          "base_uri": "https://localhost:8080/"
        },
        "id": "RWzo4jwoopYq",
        "outputId": "14a24915-b87f-400d-f8f5-2847612f4825"
      },
      "execution_count": null,
      "outputs": [
        {
          "output_type": "stream",
          "name": "stdout",
          "text": [
            "Carlos\n",
            "Quito\n",
            "----------\n",
            "ULEAM\n",
            "----------\n",
            "name:\n",
            "age:\n",
            "city\n",
            "UNI\n"
          ]
        }
      ]
    },
    {
      "cell_type": "markdown",
      "source": [
        "**DICCIONARIO**"
      ],
      "metadata": {
        "id": "E2awyppSOudY"
      }
    },
    {
      "cell_type": "code",
      "source": [
        "miDiccionario = {'perro':'grande', 'león':'fuerte', 'mariposa':'libre'}\n",
        "\n",
        "print(type(miDiccionario))\n",
        "\n",
        "for key, value in miDiccionario.items():\n",
        "  print(f'key {key}, value {value}')\n",
        "  print('key %s, value %s'%(key,value))\n",
        "  print('the key value is: {} and the value is: {}'.format(key, value))\n",
        "miDiccionario['']='so cute'\n",
        "\n",
        "print('------------------')\n",
        "print(miDiccionario)"
      ],
      "metadata": {
        "colab": {
          "base_uri": "https://localhost:8080/"
        },
        "id": "PxWvuCDcOziN",
        "outputId": "3d3352b7-7bcd-492f-f7a6-d19deba40786"
      },
      "execution_count": 2,
      "outputs": [
        {
          "output_type": "stream",
          "name": "stdout",
          "text": [
            "<class 'dict'>\n",
            "key perro, value grande\n",
            "key perro, value grande\n",
            "the key value is: perro and the value is: grande\n",
            "key león, value fuerte\n",
            "key león, value fuerte\n",
            "the key value is: león and the value is: fuerte\n",
            "key mariposa, value libre\n",
            "key mariposa, value libre\n",
            "the key value is: mariposa and the value is: libre\n",
            "------------------\n",
            "{'perro': 'grande', 'león': 'fuerte', 'mariposa': 'libre', '': 'so cute'}\n"
          ]
        }
      ]
    }
  ]
}